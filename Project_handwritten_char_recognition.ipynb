{
  "nbformat": 4,
  "nbformat_minor": 0,
  "metadata": {
    "colab": {
      "name": "Copy of Project-handwritten_char_recognition.ipynb",
      "provenance": []
    },
    "kernelspec": {
      "name": "python3",
      "display_name": "Python 3"
    },
    "language_info": {
      "name": "python"
    }
  },
  "cells": [
    {
      "cell_type": "code",
      "metadata": {
        "id": "BL7jAuJ2rvdX"
      },
      "source": [
        "import numpy as np\n",
        "import matplotlib.pyplot as plt\n",
        "import pandas as pd"
      ],
      "execution_count": null,
      "outputs": []
    },
    {
      "cell_type": "code",
      "metadata": {
        "id": "-vWmkR6Ar87o"
      },
      "source": [
        "df_train = pd.read_csv('sample_data/mnist_train_small.csv')\n",
        "df_test = pd.read_csv('sample_data/mnist_test.csv')"
      ],
      "execution_count": null,
      "outputs": []
    },
    {
      "cell_type": "code",
      "metadata": {
        "id": "VnmvU9AIr-wy"
      },
      "source": [
        "X_train = df_train.iloc[:, 1:].values/255\n",
        "y_train = df_train.iloc[:, :1].values"
      ],
      "execution_count": null,
      "outputs": []
    },
    {
      "cell_type": "code",
      "metadata": {
        "id": "_4lpmFI6sAhU"
      },
      "source": [
        "X_test = df_test.iloc[:, 1:].values/255\n",
        "y_test = df_test.iloc[:, :1].values"
      ],
      "execution_count": null,
      "outputs": []
    },
    {
      "cell_type": "code",
      "metadata": {
        "id": "vSZIhjUgsCim"
      },
      "source": [
        "from sklearn.preprocessing import OneHotEncoder"
      ],
      "execution_count": null,
      "outputs": []
    },
    {
      "cell_type": "code",
      "metadata": {
        "id": "_MT5RG0FsENR"
      },
      "source": [
        "y_train = OneHotEncoder().fit_transform(y_train).toarray()\n",
        "y_test = OneHotEncoder().fit_transform(y_test).toarray()"
      ],
      "execution_count": null,
      "outputs": []
    },
    {
      "cell_type": "code",
      "metadata": {
        "colab": {
          "base_uri": "https://localhost:8080/",
          "height": 265
        },
        "id": "JTujD9-AsGb0",
        "outputId": "d88b5576-7843-4c31-f0fb-85625b0ed9a4"
      },
      "source": [
        "plt.imshow(X_train[0].reshape(28, 28))\n",
        "plt.show()"
      ],
      "execution_count": null,
      "outputs": [
        {
          "output_type": "display_data",
          "data": {
            "image/png": "[encoded data removed]",
            "text/plain": [
              "<Figure size 432x288 with 1 Axes>"
            ]
          },
          "metadata": {
            "needs_background": "light"
          }
        }
      ]
    },
    {
      "cell_type": "code",
      "metadata": {
        "id": "LeUaz_MDsIr2"
      },
      "source": [
        "from keras.models import Sequential\n",
        "from keras.layers import Dense"
      ],
      "execution_count": null,
      "outputs": []
    },
    {
      "cell_type": "code",
      "metadata": {
        "id": "EFiFv_DesLIi"
      },
      "source": [
        "model = Sequential()\n",
        "model.add(Dense(56, activation='relu'))\n",
        "model.add(Dense(10, activation='softmax'))"
      ],
      "execution_count": null,
      "outputs": []
    },
    {
      "cell_type": "code",
      "metadata": {
        "id": "JQrLEPKmsNEo"
      },
      "source": [
        "model.compile(optimizer='adam', loss='mse', metrics=['accuracy'])"
      ],
      "execution_count": null,
      "outputs": []
    },
    {
      "cell_type": "code",
      "metadata": {
        "colab": {
          "base_uri": "https://localhost:8080/"
        },
        "id": "Ns5CGEQzsPHC",
        "outputId": "17a1e948-b787-4eb2-94c4-e4d248ffc03d"
      },
      "source": [
        "model.fit(X_train, y_train, epochs=10, validation_data=(X_test, y_test))"
      ],
      "execution_count": null,
      "outputs": [
        {
          "output_type": "stream",
          "name": "stdout",
          "text": [
            "Epoch 1/10\n",
            "625/625 [==============================] - 2s 2ms/step - loss: 0.0211 - accuracy: 0.8667 - val_loss: 0.0124 - val_accuracy: 0.9210\n",
            "Epoch 2/10\n",
            "625/625 [==============================] - 1s 2ms/step - loss: 0.0109 - accuracy: 0.9304 - val_loss: 0.0115 - val_accuracy: 0.9253\n",
            "Epoch 3/10\n",
            "625/625 [==============================] - 1s 2ms/step - loss: 0.0087 - accuracy: 0.9465 - val_loss: 0.0089 - val_accuracy: 0.9433\n",
            "Epoch 4/10\n",
            "625/625 [==============================] - 1s 2ms/step - loss: 0.0073 - accuracy: 0.9543 - val_loss: 0.0085 - val_accuracy: 0.9441\n",
            "Epoch 5/10\n",
            "625/625 [==============================] - 1s 2ms/step - loss: 0.0062 - accuracy: 0.9626 - val_loss: 0.0080 - val_accuracy: 0.9479\n",
            "Epoch 6/10\n",
            "625/625 [==============================] - 1s 2ms/step - loss: 0.0054 - accuracy: 0.9676 - val_loss: 0.0077 - val_accuracy: 0.9514\n",
            "Epoch 7/10\n",
            "625/625 [==============================] - 1s 2ms/step - loss: 0.0048 - accuracy: 0.9720 - val_loss: 0.0070 - val_accuracy: 0.9545\n",
            "Epoch 8/10\n",
            "625/625 [==============================] - 1s 2ms/step - loss: 0.0042 - accuracy: 0.9759 - val_loss: 0.0069 - val_accuracy: 0.9528\n",
            "Epoch 9/10\n",
            "625/625 [==============================] - 1s 2ms/step - loss: 0.0039 - accuracy: 0.9777 - val_loss: 0.0071 - val_accuracy: 0.9558\n",
            "Epoch 10/10\n",
            "625/625 [==============================] - 1s 2ms/step - loss: 0.0035 - accuracy: 0.9800 - val_loss: 0.0065 - val_accuracy: 0.9579\n"
          ]
        },
        {
          "output_type": "execute_result",
          "data": {
            "text/plain": [
              "<keras.callbacks.History at 0x7fb48183d3d0>"
            ]
          },
          "metadata": {},
          "execution_count": 56
        }
      ]
    },
    {
      "cell_type": "code",
      "metadata": {
        "id": "z0rAKJtSsSca"
      },
      "source": [
        ""
      ],
      "execution_count": null,
      "outputs": []
    }
  ]
}